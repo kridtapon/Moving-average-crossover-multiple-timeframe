{
  "nbformat": 4,
  "nbformat_minor": 0,
  "metadata": {
    "colab": {
      "provenance": [],
      "authorship_tag": "ABX9TyNHHUNjfQ7HnYgh0114ieWc",
      "include_colab_link": true
    },
    "kernelspec": {
      "name": "python3",
      "display_name": "Python 3"
    },
    "language_info": {
      "name": "python"
    }
  },
  "cells": [
    {
      "cell_type": "markdown",
      "metadata": {
        "id": "view-in-github",
        "colab_type": "text"
      },
      "source": [
        "<a href=\"https://colab.research.google.com/github/kridtapon/Moving-average-crossover-multiple-timeframe/blob/main/Moving_average_crossover_multiple_timeframe.ipynb\" target=\"_parent\"><img src=\"https://colab.research.google.com/assets/colab-badge.svg\" alt=\"Open In Colab\"/></a>"
      ]
    },
    {
      "cell_type": "code",
      "source": [
        "pip install vectorbt"
      ],
      "metadata": {
        "id": "HVd4lriHVFA6"
      },
      "execution_count": null,
      "outputs": []
    },
    {
      "cell_type": "code",
      "source": [
        "pip install --upgrade yfinance"
      ],
      "metadata": {
        "id": "nzfT57CiVGeJ"
      },
      "execution_count": null,
      "outputs": []
    },
    {
      "cell_type": "code",
      "execution_count": null,
      "metadata": {
        "id": "wzvQ3GH6UQKi"
      },
      "outputs": [],
      "source": [
        "import numpy as np\n",
        "import pandas as pd\n",
        "import yfinance as yf\n",
        "import vectorbt as vbt\n",
        "\n",
        "# Function to calculate moving average crossover\n",
        "def calculate_sma(df, short_window=50, long_window=200):\n",
        "    short_sma = df['Close'].rolling(window=short_window).mean()\n",
        "    long_sma = df['Close'].rolling(window=long_window).mean()\n",
        "    return short_sma, long_sma\n",
        "\n",
        "# Define the stock symbol and time period\n",
        "symbol = 'NFLX'\n",
        "start_date = '2019-01-01'\n",
        "end_date = '2025-03-31'\n",
        "\n",
        "# Download the stock data\n",
        "df = yf.download(symbol, start=start_date, end=end_date)\n",
        "df.columns = ['Close', 'High', 'Low', 'Open', 'Volume']\n",
        "\n",
        "# Calculate SMA for weekly and daily data\n",
        "weekly_data = df.resample('W').last()  # Resample weekly data\n",
        "weekly_data['Short_SMA'], weekly_data['Long_SMA'] = calculate_sma(weekly_data, short_window=7, long_window=28)\n",
        "daily_data = df.copy()  # Use the original daily data\n",
        "daily_data['Short_SMA'], daily_data['Long_SMA'] = calculate_sma(daily_data, short_window=1, long_window=136)\n",
        "\n",
        "# Forward-fill weekly SMA to daily data\n",
        "weekly_data = weekly_data.reindex(daily_data.index, method='ffill')\n",
        "daily_data['HTF_Trend'] = weekly_data['Short_SMA'] > weekly_data['Long_SMA']  # Weekly trend confirmation\n",
        "\n",
        "# Filter data for the test period (2020-2025)\n",
        "df = df[(df.index.year >= 2025) & (df.index.year <= 2025)]\n",
        "daily_data = daily_data[(daily_data.index.year >= 2025) & (daily_data.index.year <= 2025)]\n",
        "\n",
        "# Generate entry and exit signals for the strategy\n",
        "entries = (daily_data['HTF_Trend']) & (daily_data['Short_SMA'] > daily_data['Long_SMA'])\n",
        "exits = (~daily_data['HTF_Trend']) & (daily_data['Short_SMA'] < daily_data['Long_SMA'])\n",
        "\n",
        "# Backtest on training data\n",
        "portfolio = vbt.Portfolio.from_signals(\n",
        "            close=df['Close'],\n",
        "            entries=entries,\n",
        "            exits=exits,\n",
        "            init_cash=100_000,\n",
        "            fees=0.001\n",
        ")\n",
        "\n",
        "# Display performance metrics\n",
        "print(portfolio.stats())\n",
        "\n",
        "# Plot equity curve\n",
        "portfolio.plot().show()"
      ]
    }
  ]
}